{
 "cells": [
  {
   "cell_type": "markdown",
   "id": "dc68e5de",
   "metadata": {},
   "source": [
    "### Project :   Game Streamer Analysis\n",
    "### Author :    Sanjoy Kumar\n",
    "### Email :      sanjoy.eee32@gmail.com\n",
    "### Portfolio : imsanjoykb.github.io"
   ]
  },
  {
   "cell_type": "markdown",
   "id": "0d9e5131",
   "metadata": {},
   "source": [
    "## Import Necessary Libraries"
   ]
  },
  {
   "cell_type": "code",
   "execution_count": 1,
   "id": "74ba3fae",
   "metadata": {},
   "outputs": [],
   "source": [
    "import pandas as pd\n",
    "import numpy as np\n",
    "import matplotlib.pylab as plt\n",
    "import datetime\n",
    "import missingno as msno\n",
    "from collections import Counter"
   ]
  },
  {
   "cell_type": "markdown",
   "id": "beb83c0f",
   "metadata": {},
   "source": [
    "## Import Data Source"
   ]
  },
  {
   "cell_type": "code",
   "execution_count": 2,
   "id": "baf2116d",
   "metadata": {},
   "outputs": [
    {
     "data": {
      "text/html": [
       "<div>\n",
       "<style scoped>\n",
       "    .dataframe tbody tr th:only-of-type {\n",
       "        vertical-align: middle;\n",
       "    }\n",
       "\n",
       "    .dataframe tbody tr th {\n",
       "        vertical-align: top;\n",
       "    }\n",
       "\n",
       "    .dataframe thead th {\n",
       "        text-align: right;\n",
       "    }\n",
       "</style>\n",
       "<table border=\"1\" class=\"dataframe\">\n",
       "  <thead>\n",
       "    <tr style=\"text-align: right;\">\n",
       "      <th></th>\n",
       "      <th>Country</th>\n",
       "      <th>Gender</th>\n",
       "      <th>Game</th>\n",
       "      <th>Total Follower</th>\n",
       "      <th>Broadcast Hours</th>\n",
       "      <th>PaidStarPerWatchedHour</th>\n",
       "      <th>Character_Facet_Cont_Rigidity</th>\n",
       "      <th>Character_Facet_Cont_AchievementStriving</th>\n",
       "      <th>Personal_Values_Facet_Cont_Hedonism</th>\n",
       "      <th>Character_Facet_Cont_Dutifulness</th>\n",
       "      <th>...</th>\n",
       "      <th>Personal_Values_Facet_Cont_UniversalismNature</th>\n",
       "      <th>Role_Charismatic</th>\n",
       "      <th>Personal_Values_Facet_Cont_Tradition</th>\n",
       "      <th>Self_Esteem_Cont_SELevelAppearance</th>\n",
       "      <th>Character_Facet_Cont_Assertiveness</th>\n",
       "      <th>Character_Facet_Cont_Cautiousness</th>\n",
       "      <th>Role_Curator</th>\n",
       "      <th>Personal_Values_Cont_Conservation</th>\n",
       "      <th>Self_Esteem_Cont_SELevelIntelligence</th>\n",
       "      <th>Temperament_Centric</th>\n",
       "    </tr>\n",
       "  </thead>\n",
       "  <tbody>\n",
       "    <tr>\n",
       "      <th>0</th>\n",
       "      <td>ID</td>\n",
       "      <td>Male</td>\n",
       "      <td>MLBB</td>\n",
       "      <td>96751</td>\n",
       "      <td>104</td>\n",
       "      <td>0.004113</td>\n",
       "      <td>0.663442</td>\n",
       "      <td>0.718679</td>\n",
       "      <td>0.288008</td>\n",
       "      <td>0.471456</td>\n",
       "      <td>...</td>\n",
       "      <td>0.523116</td>\n",
       "      <td>0.408444</td>\n",
       "      <td>0.318747</td>\n",
       "      <td>0.684412</td>\n",
       "      <td>0.494384</td>\n",
       "      <td>0.751974</td>\n",
       "      <td>0.524306</td>\n",
       "      <td>0.299052</td>\n",
       "      <td>0.803920</td>\n",
       "      <td>0.625</td>\n",
       "    </tr>\n",
       "    <tr>\n",
       "      <th>1</th>\n",
       "      <td>ID</td>\n",
       "      <td>Male</td>\n",
       "      <td>8 Ball Pool</td>\n",
       "      <td>4781</td>\n",
       "      <td>174</td>\n",
       "      <td>0.002855</td>\n",
       "      <td>0.543255</td>\n",
       "      <td>0.427887</td>\n",
       "      <td>0.430609</td>\n",
       "      <td>0.493514</td>\n",
       "      <td>...</td>\n",
       "      <td>0.444493</td>\n",
       "      <td>0.407624</td>\n",
       "      <td>0.382594</td>\n",
       "      <td>0.635493</td>\n",
       "      <td>0.468738</td>\n",
       "      <td>0.571198</td>\n",
       "      <td>0.100202</td>\n",
       "      <td>0.304527</td>\n",
       "      <td>0.751291</td>\n",
       "      <td>0.125</td>\n",
       "    </tr>\n",
       "    <tr>\n",
       "      <th>2</th>\n",
       "      <td>ID</td>\n",
       "      <td>Female</td>\n",
       "      <td>Free Fire - Battlegrounds</td>\n",
       "      <td>68246</td>\n",
       "      <td>83</td>\n",
       "      <td>0.003007</td>\n",
       "      <td>0.527279</td>\n",
       "      <td>0.399873</td>\n",
       "      <td>0.753009</td>\n",
       "      <td>0.472405</td>\n",
       "      <td>...</td>\n",
       "      <td>0.581657</td>\n",
       "      <td>0.443453</td>\n",
       "      <td>0.325263</td>\n",
       "      <td>0.398686</td>\n",
       "      <td>0.515929</td>\n",
       "      <td>0.309322</td>\n",
       "      <td>0.070988</td>\n",
       "      <td>0.305975</td>\n",
       "      <td>0.759900</td>\n",
       "      <td>0.000</td>\n",
       "    </tr>\n",
       "    <tr>\n",
       "      <th>3</th>\n",
       "      <td>ID</td>\n",
       "      <td>Male</td>\n",
       "      <td>MLBB</td>\n",
       "      <td>142037</td>\n",
       "      <td>127</td>\n",
       "      <td>0.005171</td>\n",
       "      <td>0.677222</td>\n",
       "      <td>0.603534</td>\n",
       "      <td>0.407923</td>\n",
       "      <td>0.467787</td>\n",
       "      <td>...</td>\n",
       "      <td>0.385822</td>\n",
       "      <td>0.408994</td>\n",
       "      <td>0.440821</td>\n",
       "      <td>0.703669</td>\n",
       "      <td>0.516412</td>\n",
       "      <td>0.535322</td>\n",
       "      <td>0.214652</td>\n",
       "      <td>0.298592</td>\n",
       "      <td>0.734010</td>\n",
       "      <td>0.000</td>\n",
       "    </tr>\n",
       "    <tr>\n",
       "      <th>4</th>\n",
       "      <td>ID</td>\n",
       "      <td>Male</td>\n",
       "      <td>Free Fire - Battlegrounds</td>\n",
       "      <td>15416</td>\n",
       "      <td>86</td>\n",
       "      <td>0.001213</td>\n",
       "      <td>0.238194</td>\n",
       "      <td>0.543285</td>\n",
       "      <td>0.392993</td>\n",
       "      <td>0.583099</td>\n",
       "      <td>...</td>\n",
       "      <td>0.582025</td>\n",
       "      <td>0.135650</td>\n",
       "      <td>0.405968</td>\n",
       "      <td>0.439668</td>\n",
       "      <td>0.586193</td>\n",
       "      <td>0.567604</td>\n",
       "      <td>0.324364</td>\n",
       "      <td>0.298716</td>\n",
       "      <td>0.814530</td>\n",
       "      <td>0.125</td>\n",
       "    </tr>\n",
       "  </tbody>\n",
       "</table>\n",
       "<p>5 rows × 126 columns</p>\n",
       "</div>"
      ],
      "text/plain": [
       "  Country  Gender                       Game Total Follower  Broadcast Hours  \\\n",
       "0      ID    Male                       MLBB          96751              104   \n",
       "1      ID    Male                8 Ball Pool           4781              174   \n",
       "2      ID  Female  Free Fire - Battlegrounds          68246               83   \n",
       "3      ID    Male                       MLBB         142037              127   \n",
       "4      ID    Male  Free Fire - Battlegrounds          15416               86   \n",
       "\n",
       "   PaidStarPerWatchedHour  Character_Facet_Cont_Rigidity  \\\n",
       "0                0.004113                       0.663442   \n",
       "1                0.002855                       0.543255   \n",
       "2                0.003007                       0.527279   \n",
       "3                0.005171                       0.677222   \n",
       "4                0.001213                       0.238194   \n",
       "\n",
       "   Character_Facet_Cont_AchievementStriving  \\\n",
       "0                                  0.718679   \n",
       "1                                  0.427887   \n",
       "2                                  0.399873   \n",
       "3                                  0.603534   \n",
       "4                                  0.543285   \n",
       "\n",
       "   Personal_Values_Facet_Cont_Hedonism  Character_Facet_Cont_Dutifulness  ...  \\\n",
       "0                             0.288008                          0.471456  ...   \n",
       "1                             0.430609                          0.493514  ...   \n",
       "2                             0.753009                          0.472405  ...   \n",
       "3                             0.407923                          0.467787  ...   \n",
       "4                             0.392993                          0.583099  ...   \n",
       "\n",
       "   Personal_Values_Facet_Cont_UniversalismNature  Role_Charismatic  \\\n",
       "0                                       0.523116          0.408444   \n",
       "1                                       0.444493          0.407624   \n",
       "2                                       0.581657          0.443453   \n",
       "3                                       0.385822          0.408994   \n",
       "4                                       0.582025          0.135650   \n",
       "\n",
       "   Personal_Values_Facet_Cont_Tradition  Self_Esteem_Cont_SELevelAppearance  \\\n",
       "0                              0.318747                            0.684412   \n",
       "1                              0.382594                            0.635493   \n",
       "2                              0.325263                            0.398686   \n",
       "3                              0.440821                            0.703669   \n",
       "4                              0.405968                            0.439668   \n",
       "\n",
       "   Character_Facet_Cont_Assertiveness  Character_Facet_Cont_Cautiousness  \\\n",
       "0                            0.494384                           0.751974   \n",
       "1                            0.468738                           0.571198   \n",
       "2                            0.515929                           0.309322   \n",
       "3                            0.516412                           0.535322   \n",
       "4                            0.586193                           0.567604   \n",
       "\n",
       "   Role_Curator  Personal_Values_Cont_Conservation  \\\n",
       "0      0.524306                           0.299052   \n",
       "1      0.100202                           0.304527   \n",
       "2      0.070988                           0.305975   \n",
       "3      0.214652                           0.298592   \n",
       "4      0.324364                           0.298716   \n",
       "\n",
       "   Self_Esteem_Cont_SELevelIntelligence  Temperament_Centric  \n",
       "0                              0.803920                0.625  \n",
       "1                              0.751291                0.125  \n",
       "2                              0.759900                0.000  \n",
       "3                              0.734010                0.000  \n",
       "4                              0.814530                0.125  \n",
       "\n",
       "[5 rows x 126 columns]"
      ]
     },
     "execution_count": 2,
     "metadata": {},
     "output_type": "execute_result"
    }
   ],
   "source": [
    "data_source =  'Maingames_DS_dataset.csv'\n",
    "df = pd.read_csv(data_source, index_col=\"Unnamed: 0\")\n",
    "df.head(5)"
   ]
  },
  {
   "cell_type": "markdown",
   "id": "be4f5e69",
   "metadata": {},
   "source": [
    "## Data Internal Insights"
   ]
  },
  {
   "cell_type": "code",
   "execution_count": 3,
   "id": "a9e2bcf2",
   "metadata": {},
   "outputs": [
    {
     "data": {
      "text/plain": [
       "(631, 126)"
      ]
     },
     "execution_count": 3,
     "metadata": {},
     "output_type": "execute_result"
    }
   ],
   "source": [
    "df.shape"
   ]
  },
  {
   "cell_type": "code",
   "execution_count": 4,
   "id": "274ff60e",
   "metadata": {},
   "outputs": [
    {
     "data": {
      "text/plain": [
       "Country                                 0\n",
       "Gender                                  1\n",
       "Game                                    2\n",
       "Total Follower                          1\n",
       "Broadcast Hours                         0\n",
       "                                       ..\n",
       "Character_Facet_Cont_Cautiousness       0\n",
       "Role_Curator                            0\n",
       "Personal_Values_Cont_Conservation       0\n",
       "Self_Esteem_Cont_SELevelIntelligence    0\n",
       "Temperament_Centric                     0\n",
       "Length: 126, dtype: int64"
      ]
     },
     "execution_count": 4,
     "metadata": {},
     "output_type": "execute_result"
    }
   ],
   "source": [
    "df.isnull().sum()"
   ]
  },
  {
   "cell_type": "code",
   "execution_count": 5,
   "id": "f9e29046",
   "metadata": {},
   "outputs": [
    {
     "data": {
      "text/html": [
       "<div>\n",
       "<style scoped>\n",
       "    .dataframe tbody tr th:only-of-type {\n",
       "        vertical-align: middle;\n",
       "    }\n",
       "\n",
       "    .dataframe tbody tr th {\n",
       "        vertical-align: top;\n",
       "    }\n",
       "\n",
       "    .dataframe thead th {\n",
       "        text-align: right;\n",
       "    }\n",
       "</style>\n",
       "<table border=\"1\" class=\"dataframe\">\n",
       "  <thead>\n",
       "    <tr style=\"text-align: right;\">\n",
       "      <th></th>\n",
       "      <th>Broadcast Hours</th>\n",
       "      <th>PaidStarPerWatchedHour</th>\n",
       "      <th>Character_Facet_Cont_Rigidity</th>\n",
       "      <th>Character_Facet_Cont_AchievementStriving</th>\n",
       "      <th>Personal_Values_Facet_Cont_Hedonism</th>\n",
       "      <th>Character_Facet_Cont_Dutifulness</th>\n",
       "      <th>Character_Cont_Conscientiousness</th>\n",
       "      <th>Character_Facet_Cont_Sympathy</th>\n",
       "      <th>Personal_Values_Facet_Cont_UniversalismTolerance</th>\n",
       "      <th>Temperament_Choleric</th>\n",
       "      <th>...</th>\n",
       "      <th>Personal_Values_Facet_Cont_UniversalismNature</th>\n",
       "      <th>Role_Charismatic</th>\n",
       "      <th>Personal_Values_Facet_Cont_Tradition</th>\n",
       "      <th>Self_Esteem_Cont_SELevelAppearance</th>\n",
       "      <th>Character_Facet_Cont_Assertiveness</th>\n",
       "      <th>Character_Facet_Cont_Cautiousness</th>\n",
       "      <th>Role_Curator</th>\n",
       "      <th>Personal_Values_Cont_Conservation</th>\n",
       "      <th>Self_Esteem_Cont_SELevelIntelligence</th>\n",
       "      <th>Temperament_Centric</th>\n",
       "    </tr>\n",
       "  </thead>\n",
       "  <tbody>\n",
       "    <tr>\n",
       "      <th>count</th>\n",
       "      <td>631.000000</td>\n",
       "      <td>629.000000</td>\n",
       "      <td>631.000000</td>\n",
       "      <td>631.000000</td>\n",
       "      <td>631.000000</td>\n",
       "      <td>631.000000</td>\n",
       "      <td>631.000000</td>\n",
       "      <td>631.000000</td>\n",
       "      <td>631.000000</td>\n",
       "      <td>631.000000</td>\n",
       "      <td>...</td>\n",
       "      <td>631.000000</td>\n",
       "      <td>631.000000</td>\n",
       "      <td>631.000000</td>\n",
       "      <td>631.000000</td>\n",
       "      <td>631.000000</td>\n",
       "      <td>631.000000</td>\n",
       "      <td>631.000000</td>\n",
       "      <td>631.000000</td>\n",
       "      <td>631.000000</td>\n",
       "      <td>631.000000</td>\n",
       "    </tr>\n",
       "    <tr>\n",
       "      <th>mean</th>\n",
       "      <td>127.870048</td>\n",
       "      <td>0.012047</td>\n",
       "      <td>0.602272</td>\n",
       "      <td>0.511264</td>\n",
       "      <td>0.504968</td>\n",
       "      <td>0.495829</td>\n",
       "      <td>0.475071</td>\n",
       "      <td>0.398333</td>\n",
       "      <td>0.558301</td>\n",
       "      <td>0.192155</td>\n",
       "      <td>...</td>\n",
       "      <td>0.486182</td>\n",
       "      <td>0.483384</td>\n",
       "      <td>0.354377</td>\n",
       "      <td>0.628526</td>\n",
       "      <td>0.498150</td>\n",
       "      <td>0.509117</td>\n",
       "      <td>0.264708</td>\n",
       "      <td>0.299209</td>\n",
       "      <td>0.769686</td>\n",
       "      <td>0.330626</td>\n",
       "    </tr>\n",
       "    <tr>\n",
       "      <th>std</th>\n",
       "      <td>53.127032</td>\n",
       "      <td>0.103878</td>\n",
       "      <td>0.098965</td>\n",
       "      <td>0.132756</td>\n",
       "      <td>0.110216</td>\n",
       "      <td>0.099318</td>\n",
       "      <td>0.089500</td>\n",
       "      <td>0.093354</td>\n",
       "      <td>0.095576</td>\n",
       "      <td>0.215062</td>\n",
       "      <td>...</td>\n",
       "      <td>0.072933</td>\n",
       "      <td>0.133083</td>\n",
       "      <td>0.052241</td>\n",
       "      <td>0.113400</td>\n",
       "      <td>0.095051</td>\n",
       "      <td>0.132999</td>\n",
       "      <td>0.115095</td>\n",
       "      <td>0.007841</td>\n",
       "      <td>0.059291</td>\n",
       "      <td>0.231695</td>\n",
       "    </tr>\n",
       "    <tr>\n",
       "      <th>min</th>\n",
       "      <td>0.000000</td>\n",
       "      <td>0.000000</td>\n",
       "      <td>0.238194</td>\n",
       "      <td>0.092290</td>\n",
       "      <td>0.203574</td>\n",
       "      <td>0.176896</td>\n",
       "      <td>0.192784</td>\n",
       "      <td>0.136315</td>\n",
       "      <td>0.234030</td>\n",
       "      <td>0.000000</td>\n",
       "      <td>...</td>\n",
       "      <td>0.333361</td>\n",
       "      <td>0.089912</td>\n",
       "      <td>0.153680</td>\n",
       "      <td>0.342775</td>\n",
       "      <td>0.214129</td>\n",
       "      <td>0.131429</td>\n",
       "      <td>0.000000</td>\n",
       "      <td>0.267636</td>\n",
       "      <td>0.302305</td>\n",
       "      <td>0.000000</td>\n",
       "    </tr>\n",
       "    <tr>\n",
       "      <th>25%</th>\n",
       "      <td>92.000000</td>\n",
       "      <td>0.000910</td>\n",
       "      <td>0.548895</td>\n",
       "      <td>0.378814</td>\n",
       "      <td>0.438643</td>\n",
       "      <td>0.437895</td>\n",
       "      <td>0.418463</td>\n",
       "      <td>0.350123</td>\n",
       "      <td>0.510763</td>\n",
       "      <td>0.000000</td>\n",
       "      <td>...</td>\n",
       "      <td>0.429169</td>\n",
       "      <td>0.397342</td>\n",
       "      <td>0.329644</td>\n",
       "      <td>0.523061</td>\n",
       "      <td>0.412747</td>\n",
       "      <td>0.387027</td>\n",
       "      <td>0.179912</td>\n",
       "      <td>0.292658</td>\n",
       "      <td>0.742862</td>\n",
       "      <td>0.125000</td>\n",
       "    </tr>\n",
       "    <tr>\n",
       "      <th>50%</th>\n",
       "      <td>113.000000</td>\n",
       "      <td>0.002594</td>\n",
       "      <td>0.592589</td>\n",
       "      <td>0.523694</td>\n",
       "      <td>0.538550</td>\n",
       "      <td>0.505687</td>\n",
       "      <td>0.488704</td>\n",
       "      <td>0.389375</td>\n",
       "      <td>0.552733</td>\n",
       "      <td>0.250000</td>\n",
       "      <td>...</td>\n",
       "      <td>0.471135</td>\n",
       "      <td>0.474822</td>\n",
       "      <td>0.341652</td>\n",
       "      <td>0.660061</td>\n",
       "      <td>0.496871</td>\n",
       "      <td>0.512096</td>\n",
       "      <td>0.247404</td>\n",
       "      <td>0.301182</td>\n",
       "      <td>0.776426</td>\n",
       "      <td>0.250000</td>\n",
       "    </tr>\n",
       "    <tr>\n",
       "      <th>75%</th>\n",
       "      <td>151.500000</td>\n",
       "      <td>0.007003</td>\n",
       "      <td>0.668015</td>\n",
       "      <td>0.615077</td>\n",
       "      <td>0.571307</td>\n",
       "      <td>0.567108</td>\n",
       "      <td>0.523962</td>\n",
       "      <td>0.450524</td>\n",
       "      <td>0.625677</td>\n",
       "      <td>0.250000</td>\n",
       "      <td>...</td>\n",
       "      <td>0.544211</td>\n",
       "      <td>0.586773</td>\n",
       "      <td>0.377048</td>\n",
       "      <td>0.721947</td>\n",
       "      <td>0.555224</td>\n",
       "      <td>0.613752</td>\n",
       "      <td>0.367443</td>\n",
       "      <td>0.304341</td>\n",
       "      <td>0.807230</td>\n",
       "      <td>0.500000</td>\n",
       "    </tr>\n",
       "    <tr>\n",
       "      <th>max</th>\n",
       "      <td>571.000000</td>\n",
       "      <td>2.561621</td>\n",
       "      <td>0.869732</td>\n",
       "      <td>0.803543</td>\n",
       "      <td>0.853163</td>\n",
       "      <td>0.783423</td>\n",
       "      <td>0.732078</td>\n",
       "      <td>0.677443</td>\n",
       "      <td>0.842938</td>\n",
       "      <td>1.000000</td>\n",
       "      <td>...</td>\n",
       "      <td>0.671015</td>\n",
       "      <td>0.832664</td>\n",
       "      <td>0.598359</td>\n",
       "      <td>0.838676</td>\n",
       "      <td>0.786141</td>\n",
       "      <td>0.910022</td>\n",
       "      <td>0.601515</td>\n",
       "      <td>0.323636</td>\n",
       "      <td>0.897407</td>\n",
       "      <td>1.000000</td>\n",
       "    </tr>\n",
       "  </tbody>\n",
       "</table>\n",
       "<p>8 rows × 121 columns</p>\n",
       "</div>"
      ],
      "text/plain": [
       "       Broadcast Hours  PaidStarPerWatchedHour  Character_Facet_Cont_Rigidity  \\\n",
       "count       631.000000              629.000000                     631.000000   \n",
       "mean        127.870048                0.012047                       0.602272   \n",
       "std          53.127032                0.103878                       0.098965   \n",
       "min           0.000000                0.000000                       0.238194   \n",
       "25%          92.000000                0.000910                       0.548895   \n",
       "50%         113.000000                0.002594                       0.592589   \n",
       "75%         151.500000                0.007003                       0.668015   \n",
       "max         571.000000                2.561621                       0.869732   \n",
       "\n",
       "       Character_Facet_Cont_AchievementStriving  \\\n",
       "count                                631.000000   \n",
       "mean                                   0.511264   \n",
       "std                                    0.132756   \n",
       "min                                    0.092290   \n",
       "25%                                    0.378814   \n",
       "50%                                    0.523694   \n",
       "75%                                    0.615077   \n",
       "max                                    0.803543   \n",
       "\n",
       "       Personal_Values_Facet_Cont_Hedonism  Character_Facet_Cont_Dutifulness  \\\n",
       "count                           631.000000                        631.000000   \n",
       "mean                              0.504968                          0.495829   \n",
       "std                               0.110216                          0.099318   \n",
       "min                               0.203574                          0.176896   \n",
       "25%                               0.438643                          0.437895   \n",
       "50%                               0.538550                          0.505687   \n",
       "75%                               0.571307                          0.567108   \n",
       "max                               0.853163                          0.783423   \n",
       "\n",
       "       Character_Cont_Conscientiousness  Character_Facet_Cont_Sympathy  \\\n",
       "count                        631.000000                     631.000000   \n",
       "mean                           0.475071                       0.398333   \n",
       "std                            0.089500                       0.093354   \n",
       "min                            0.192784                       0.136315   \n",
       "25%                            0.418463                       0.350123   \n",
       "50%                            0.488704                       0.389375   \n",
       "75%                            0.523962                       0.450524   \n",
       "max                            0.732078                       0.677443   \n",
       "\n",
       "       Personal_Values_Facet_Cont_UniversalismTolerance  Temperament_Choleric  \\\n",
       "count                                        631.000000            631.000000   \n",
       "mean                                           0.558301              0.192155   \n",
       "std                                            0.095576              0.215062   \n",
       "min                                            0.234030              0.000000   \n",
       "25%                                            0.510763              0.000000   \n",
       "50%                                            0.552733              0.250000   \n",
       "75%                                            0.625677              0.250000   \n",
       "max                                            0.842938              1.000000   \n",
       "\n",
       "       ...  Personal_Values_Facet_Cont_UniversalismNature  Role_Charismatic  \\\n",
       "count  ...                                     631.000000        631.000000   \n",
       "mean   ...                                       0.486182          0.483384   \n",
       "std    ...                                       0.072933          0.133083   \n",
       "min    ...                                       0.333361          0.089912   \n",
       "25%    ...                                       0.429169          0.397342   \n",
       "50%    ...                                       0.471135          0.474822   \n",
       "75%    ...                                       0.544211          0.586773   \n",
       "max    ...                                       0.671015          0.832664   \n",
       "\n",
       "       Personal_Values_Facet_Cont_Tradition  \\\n",
       "count                            631.000000   \n",
       "mean                               0.354377   \n",
       "std                                0.052241   \n",
       "min                                0.153680   \n",
       "25%                                0.329644   \n",
       "50%                                0.341652   \n",
       "75%                                0.377048   \n",
       "max                                0.598359   \n",
       "\n",
       "       Self_Esteem_Cont_SELevelAppearance  Character_Facet_Cont_Assertiveness  \\\n",
       "count                          631.000000                          631.000000   \n",
       "mean                             0.628526                            0.498150   \n",
       "std                              0.113400                            0.095051   \n",
       "min                              0.342775                            0.214129   \n",
       "25%                              0.523061                            0.412747   \n",
       "50%                              0.660061                            0.496871   \n",
       "75%                              0.721947                            0.555224   \n",
       "max                              0.838676                            0.786141   \n",
       "\n",
       "       Character_Facet_Cont_Cautiousness  Role_Curator  \\\n",
       "count                         631.000000    631.000000   \n",
       "mean                            0.509117      0.264708   \n",
       "std                             0.132999      0.115095   \n",
       "min                             0.131429      0.000000   \n",
       "25%                             0.387027      0.179912   \n",
       "50%                             0.512096      0.247404   \n",
       "75%                             0.613752      0.367443   \n",
       "max                             0.910022      0.601515   \n",
       "\n",
       "       Personal_Values_Cont_Conservation  \\\n",
       "count                         631.000000   \n",
       "mean                            0.299209   \n",
       "std                             0.007841   \n",
       "min                             0.267636   \n",
       "25%                             0.292658   \n",
       "50%                             0.301182   \n",
       "75%                             0.304341   \n",
       "max                             0.323636   \n",
       "\n",
       "       Self_Esteem_Cont_SELevelIntelligence  Temperament_Centric  \n",
       "count                            631.000000           631.000000  \n",
       "mean                               0.769686             0.330626  \n",
       "std                                0.059291             0.231695  \n",
       "min                                0.302305             0.000000  \n",
       "25%                                0.742862             0.125000  \n",
       "50%                                0.776426             0.250000  \n",
       "75%                                0.807230             0.500000  \n",
       "max                                0.897407             1.000000  \n",
       "\n",
       "[8 rows x 121 columns]"
      ]
     },
     "execution_count": 5,
     "metadata": {},
     "output_type": "execute_result"
    }
   ],
   "source": [
    "df.describe()"
   ]
  },
  {
   "cell_type": "markdown",
   "id": "40a86c64",
   "metadata": {},
   "source": [
    "## Data Cleaning"
   ]
  },
  {
   "cell_type": "code",
   "execution_count": 6,
   "id": "913626fd",
   "metadata": {},
   "outputs": [],
   "source": [
    "# Drop NA value (value = '-')\n",
    "df = df[df.Game != '-']\n",
    "df = df[df.Game != 'No MLBB Video']\n",
    "# Merge same game name\n",
    " # Arena of Valor\n",
    "df['Game'] = df['Game'].replace(['Garena Liên Quân Mobile','Liên Quân Mobile'],'Arena of Valor')\n",
    " # Age of Empires\n",
    "df['Game'] = df['Game'].replace(['Agge of Empires'],'Age of Empires')\n",
    " # Audition online\n",
    "df['Game'] = df['Game'].replace(['Audition'],'Audition Online')\n",
    "df['Game'] = df['Game'].replace(['Call of Duty: Mobile VN'],'Call of Duty: Mobile')\n",
    "df['Total Follower'] = df['Total Follower'].replace(['250,98'],25098)\n",
    "\n",
    "# change datatype\n",
    "df['Total Follower'] = pd.to_numeric(df['Total Follower'])\n",
    "\n",
    "# Other\n",
    "df['PaidStarPerWatchedHourPerFollower'] = df['PaidStarPerWatchedHour']/df['Total Follower']\n"
   ]
  },
  {
   "cell_type": "code",
   "execution_count": 7,
   "id": "3f4c3d4f",
   "metadata": {},
   "outputs": [
    {
     "name": "stdout",
     "output_type": "stream",
     "text": [
      "8 Ball Pool\n",
      "Age of Empires\n",
      "Apex Legends\n",
      "Arena of Valor\n",
      "Assassin's Creed Odyssey\n",
      "Audition Online\n",
      "Auto Chess\n",
      "Blade & Soul\n",
      "CABAL ONLINE\n",
      "Call of Duty: Mobile\n",
      "Call of Duty: Warzone\n",
      "Coin Master\n",
      "Counter-Strike: Global Offensive\n",
      "Crazy Kart\n",
      "Crossfire\n",
      "Days Gone\n",
      "Dead by Daylight\n",
      "Dota 2\n",
      "EA Sports UFC 3\n",
      "Euro Truck Simulator 2\n",
      "FIFA Online 4\n",
      "Five Nights at Freddy's 2\n",
      "Free Fire - Battlegrounds\n",
      "God of War\n",
      "Grand Theft Auto V\n",
      "Green Hell\n",
      "Identity V\n",
      "J-League Jikkyou Winning Eleven\n",
      "League of Legends\n",
      "League of Legends: Wild Rift\n",
      "Little Big Snake\n",
      "MLBB\n",
      "MU Online\n",
      "Minecraft\n",
      "Moon of Madness\n",
      "MotoGP\n",
      "NBA 2K20\n",
      "Naruto Shippuden: Ultimate Ninja Storm 4\n",
      "Ngọc Rồng Online\n",
      "PUBG\n",
      "Persona 5 Royal\n",
      "Point Blank Indonesia\n",
      "RULES OF SURVIVAL\n",
      "Ragnarok M: Eternal Love\n",
      "Roblox\n",
      "Sea of Thieves\n",
      "Star Wars Jedi: Fallen Order\n",
      "Teamfight Tactics\n",
      "The Last of Us\n",
      "The Last of Us: Part II\n",
      "The Warriors\n",
      "Township Mobile\n",
      "Valorant\n",
      "World War Z\n",
      "Wormate.io\n",
      "Worms Zone\n",
      "Yakuza: Kiwami 2\n",
      "eFootball PES 2020\n"
     ]
    },
    {
     "data": {
      "text/plain": [
       "(58,)"
      ]
     },
     "execution_count": 7,
     "metadata": {},
     "output_type": "execute_result"
    }
   ],
   "source": [
    "# Show all games\n",
    "for game in df.groupby('Game').groups.keys():\n",
    "  print(game)\n",
    "df.groupby('Game').groups.keys()\n",
    "df.groupby('Game').count().iloc[:,0].shape\n"
   ]
  },
  {
   "cell_type": "code",
   "execution_count": 8,
   "id": "7c8ca1c3",
   "metadata": {},
   "outputs": [],
   "source": [
    "# Generate game count\n",
    "df_game_count = df.groupby('Game').count().sort_values('Country', ascending=False).iloc[:, 0:1].rename(columns={'Country':'Count'})\n",
    "# df_game_count.head(10)\n"
   ]
  },
  {
   "cell_type": "markdown",
   "id": "cff10de9",
   "metadata": {},
   "source": [
    "## Check Per Followers"
   ]
  },
  {
   "cell_type": "code",
   "execution_count": 9,
   "id": "c6e066a8",
   "metadata": {},
   "outputs": [
    {
     "data": {
      "text/plain": [
       "(491, 127)"
      ]
     },
     "execution_count": 9,
     "metadata": {},
     "output_type": "execute_result"
    }
   ],
   "source": [
    "cols = ['Total Follower','PaidStarPerWatchedHour'] # The columns you want to search for outliers in\n",
    "\n",
    "# Calculate quantiles and IQR\n",
    "Q1 = df[cols].quantile(0.25) # Same as np.percentile but maps (0,1) and not (0,100)\n",
    "Q3 = df[cols].quantile(0.75)\n",
    "IQR = Q3 - Q1\n",
    "\n",
    "# Return a boolean array of the rows with (any) non-outlier column values\n",
    "condition = ~((df[cols] < (Q1 - 1.5 * IQR)) | (df[cols] > (Q3 + 1.5 * IQR))).any(axis=1)\n",
    "\n",
    "# Filter our dataframe based on condition\n",
    "filtered_df = df[condition]\n",
    "filtered_df.shape"
   ]
  },
  {
   "cell_type": "code",
   "execution_count": 10,
   "id": "e3055e77",
   "metadata": {},
   "outputs": [
    {
     "data": {
      "text/plain": [
       "<AxesSubplot:xlabel='Total Follower', ylabel='PaidStarPerWatchedHourPerFollower'>"
      ]
     },
     "execution_count": 10,
     "metadata": {},
     "output_type": "execute_result"
    },
    {
     "data": {
      "image/png": "[encoded data removed]",
      "text/plain": [
       "<Figure size 432x288 with 1 Axes>"
      ]
     },
     "metadata": {
      "needs_background": "light"
     },
     "output_type": "display_data"
    }
   ],
   "source": [
    "filtered_df[['Total Follower', 'PaidStarPerWatchedHourPerFollower']].plot(x='Total Follower', y='PaidStarPerWatchedHourPerFollower', grid=True, kind='scatter')"
   ]
  },
  {
   "cell_type": "code",
   "execution_count": 11,
   "id": "5bf9fe4a",
   "metadata": {},
   "outputs": [],
   "source": [
    "# select data of PaidStarPerWatchedHourPerFollower in Q3-Q4\n",
    "cols = ['PaidStarPerWatchedHourPerFollower']\n",
    "Q1 = df[cols].quantile(0.25)\n",
    "Q3 = df[cols].quantile(0.75)\n",
    "condition = (df[cols]>Q3).any(axis=1)\n",
    "df_filtered_by_PSPWPF = df[condition]"
   ]
  },
  {
   "cell_type": "code",
   "execution_count": 12,
   "id": "2d5c9c62",
   "metadata": {},
   "outputs": [
    {
     "name": "stderr",
     "output_type": "stream",
     "text": [
      "/home/eclbd/.local/lib/python3.6/site-packages/ipykernel_launcher.py:3: UserWarning: Boolean Series key will be reindexed to match DataFrame index.\n",
      "  This is separate from the ipykernel package so we can avoid doing imports until\n"
     ]
    },
    {
     "data": {
      "text/html": [
       "<div>\n",
       "<style scoped>\n",
       "    .dataframe tbody tr th:only-of-type {\n",
       "        vertical-align: middle;\n",
       "    }\n",
       "\n",
       "    .dataframe tbody tr th {\n",
       "        vertical-align: top;\n",
       "    }\n",
       "\n",
       "    .dataframe thead th {\n",
       "        text-align: right;\n",
       "    }\n",
       "</style>\n",
       "<table border=\"1\" class=\"dataframe\">\n",
       "  <thead>\n",
       "    <tr style=\"text-align: right;\">\n",
       "      <th></th>\n",
       "      <th>PaidStarPerWatchedHour</th>\n",
       "      <th>PSPW_abs</th>\n",
       "    </tr>\n",
       "  </thead>\n",
       "  <tbody>\n",
       "    <tr>\n",
       "      <th>Role_Philanthropist</th>\n",
       "      <td>-0.282005</td>\n",
       "      <td>0.282005</td>\n",
       "    </tr>\n",
       "    <tr>\n",
       "      <th>Role_Manager</th>\n",
       "      <td>-0.254636</td>\n",
       "      <td>0.254636</td>\n",
       "    </tr>\n",
       "    <tr>\n",
       "      <th>Character_Cont_Conscientiousness</th>\n",
       "      <td>-0.245829</td>\n",
       "      <td>0.245829</td>\n",
       "    </tr>\n",
       "    <tr>\n",
       "      <th>Character_Facet_Cont_AchievementStriving</th>\n",
       "      <td>-0.245191</td>\n",
       "      <td>0.245191</td>\n",
       "    </tr>\n",
       "    <tr>\n",
       "      <th>Role_Marshal</th>\n",
       "      <td>-0.237801</td>\n",
       "      <td>0.237801</td>\n",
       "    </tr>\n",
       "    <tr>\n",
       "      <th>Personal_Values_Facet_Cont_Hedonism</th>\n",
       "      <td>0.236380</td>\n",
       "      <td>0.236380</td>\n",
       "    </tr>\n",
       "    <tr>\n",
       "      <th>Character_Cont_Openness</th>\n",
       "      <td>-0.230269</td>\n",
       "      <td>0.230269</td>\n",
       "    </tr>\n",
       "    <tr>\n",
       "      <th>Role_Commander</th>\n",
       "      <td>-0.228296</td>\n",
       "      <td>0.228296</td>\n",
       "    </tr>\n",
       "    <tr>\n",
       "      <th>Character_Facet_Cont_Morality</th>\n",
       "      <td>0.221398</td>\n",
       "      <td>0.221398</td>\n",
       "    </tr>\n",
       "    <tr>\n",
       "      <th>Personal_Values_Facet_Cont_ConformityRules</th>\n",
       "      <td>-0.215039</td>\n",
       "      <td>0.215039</td>\n",
       "    </tr>\n",
       "  </tbody>\n",
       "</table>\n",
       "</div>"
      ],
      "text/plain": [
       "                                            PaidStarPerWatchedHour  PSPW_abs\n",
       "Role_Philanthropist                                      -0.282005  0.282005\n",
       "Role_Manager                                             -0.254636  0.254636\n",
       "Character_Cont_Conscientiousness                         -0.245829  0.245829\n",
       "Character_Facet_Cont_AchievementStriving                 -0.245191  0.245191\n",
       "Role_Marshal                                             -0.237801  0.237801\n",
       "Personal_Values_Facet_Cont_Hedonism                       0.236380  0.236380\n",
       "Character_Cont_Openness                                  -0.230269  0.230269\n",
       "Role_Commander                                           -0.228296  0.228296\n",
       "Character_Facet_Cont_Morality                             0.221398  0.221398\n",
       "Personal_Values_Facet_Cont_ConformityRules               -0.215039  0.215039"
      ]
     },
     "execution_count": 12,
     "metadata": {},
     "output_type": "execute_result"
    }
   ],
   "source": [
    "c = df_filtered_by_PSPWPF.corr()\n",
    "c['PSPW_abs'] = c['PaidStarPerWatchedHour'].apply(lambda x: abs(x))\n",
    "c_rank = c[['PaidStarPerWatchedHour', 'PSPW_abs']].sort_values('PSPW_abs', ascending=False)[c['PSPW_abs'] > c['PSPW_abs'].mean()]\n",
    "c_rank = c_rank.iloc[3:]\n",
    "c_rank.head(10)\n"
   ]
  },
  {
   "cell_type": "markdown",
   "id": "e082276c",
   "metadata": {},
   "source": [
    "## Correlation Matrix with General Data "
   ]
  },
  {
   "cell_type": "code",
   "execution_count": 13,
   "id": "13e54530",
   "metadata": {},
   "outputs": [],
   "source": [
    "corr_matrix = df.corr()\n",
    "corr_matrix['PSPW_abs'] = corr_matrix['PaidStarPerWatchedHour'].apply(lambda x: abs(x))\n",
    "corr_core = corr_matrix[['PaidStarPerWatchedHour', 'PSPW_abs']]\n"
   ]
  },
  {
   "cell_type": "code",
   "execution_count": 14,
   "id": "18f7044a",
   "metadata": {},
   "outputs": [
    {
     "data": {
      "text/html": [
       "<div>\n",
       "<style scoped>\n",
       "    .dataframe tbody tr th:only-of-type {\n",
       "        vertical-align: middle;\n",
       "    }\n",
       "\n",
       "    .dataframe tbody tr th {\n",
       "        vertical-align: top;\n",
       "    }\n",
       "\n",
       "    .dataframe thead th {\n",
       "        text-align: right;\n",
       "    }\n",
       "</style>\n",
       "<table border=\"1\" class=\"dataframe\">\n",
       "  <thead>\n",
       "    <tr style=\"text-align: right;\">\n",
       "      <th></th>\n",
       "      <th>PaidStarPerWatchedHour</th>\n",
       "      <th>PSPW_abs</th>\n",
       "    </tr>\n",
       "  </thead>\n",
       "  <tbody>\n",
       "    <tr>\n",
       "      <th>PaidStarPerWatchedHour</th>\n",
       "      <td>1.000000</td>\n",
       "      <td>1.000000</td>\n",
       "    </tr>\n",
       "    <tr>\n",
       "      <th>PaidStarPerWatchedHour.1</th>\n",
       "      <td>1.000000</td>\n",
       "      <td>1.000000</td>\n",
       "    </tr>\n",
       "    <tr>\n",
       "      <th>PaidStarPerWatchedHourPerFollower</th>\n",
       "      <td>0.945065</td>\n",
       "      <td>0.945065</td>\n",
       "    </tr>\n",
       "    <tr>\n",
       "      <th>Personal_Values_Facet_Cont_Hedonism</th>\n",
       "      <td>0.142095</td>\n",
       "      <td>0.142095</td>\n",
       "    </tr>\n",
       "    <tr>\n",
       "      <th>Role_Philanthropist</th>\n",
       "      <td>-0.140508</td>\n",
       "      <td>0.140508</td>\n",
       "    </tr>\n",
       "    <tr>\n",
       "      <th>Personal_Values_Facet_Cont_ConformityRules</th>\n",
       "      <td>-0.140314</td>\n",
       "      <td>0.140314</td>\n",
       "    </tr>\n",
       "    <tr>\n",
       "      <th>Character_Facet_Cont_AchievementStriving</th>\n",
       "      <td>-0.134136</td>\n",
       "      <td>0.134136</td>\n",
       "    </tr>\n",
       "    <tr>\n",
       "      <th>Role_Manager</th>\n",
       "      <td>-0.130683</td>\n",
       "      <td>0.130683</td>\n",
       "    </tr>\n",
       "    <tr>\n",
       "      <th>Character_Cont_Conscientiousness</th>\n",
       "      <td>-0.126654</td>\n",
       "      <td>0.126654</td>\n",
       "    </tr>\n",
       "    <tr>\n",
       "      <th>Role_Marshal</th>\n",
       "      <td>-0.116596</td>\n",
       "      <td>0.116596</td>\n",
       "    </tr>\n",
       "  </tbody>\n",
       "</table>\n",
       "</div>"
      ],
      "text/plain": [
       "                                            PaidStarPerWatchedHour  PSPW_abs\n",
       "PaidStarPerWatchedHour                                    1.000000  1.000000\n",
       "PaidStarPerWatchedHour.1                                  1.000000  1.000000\n",
       "PaidStarPerWatchedHourPerFollower                         0.945065  0.945065\n",
       "Personal_Values_Facet_Cont_Hedonism                       0.142095  0.142095\n",
       "Role_Philanthropist                                      -0.140508  0.140508\n",
       "Personal_Values_Facet_Cont_ConformityRules               -0.140314  0.140314\n",
       "Character_Facet_Cont_AchievementStriving                 -0.134136  0.134136\n",
       "Role_Manager                                             -0.130683  0.130683\n",
       "Character_Cont_Conscientiousness                         -0.126654  0.126654\n",
       "Role_Marshal                                             -0.116596  0.116596"
      ]
     },
     "execution_count": 14,
     "metadata": {},
     "output_type": "execute_result"
    }
   ],
   "source": [
    "corr_core.sort_values('PSPW_abs', ascending=False).head(10)\n"
   ]
  },
  {
   "cell_type": "markdown",
   "id": "78ffeee3",
   "metadata": {},
   "source": [
    "## Divide into several group: Country, Game, Genger"
   ]
  },
  {
   "cell_type": "code",
   "execution_count": 15,
   "id": "9dd6a048",
   "metadata": {},
   "outputs": [
    {
     "data": {
      "text/html": [
       "<div>\n",
       "<style scoped>\n",
       "    .dataframe tbody tr th:only-of-type {\n",
       "        vertical-align: middle;\n",
       "    }\n",
       "\n",
       "    .dataframe tbody tr th {\n",
       "        vertical-align: top;\n",
       "    }\n",
       "\n",
       "    .dataframe thead th {\n",
       "        text-align: right;\n",
       "    }\n",
       "</style>\n",
       "<table border=\"1\" class=\"dataframe\">\n",
       "  <thead>\n",
       "    <tr style=\"text-align: right;\">\n",
       "      <th></th>\n",
       "      <th>PaidStarPerWatchedHour</th>\n",
       "      <th>PSPW_abs</th>\n",
       "    </tr>\n",
       "  </thead>\n",
       "  <tbody>\n",
       "    <tr>\n",
       "      <th>Total Follower</th>\n",
       "      <td>-0.195180</td>\n",
       "      <td>0.195180</td>\n",
       "    </tr>\n",
       "    <tr>\n",
       "      <th>Broadcast Hours</th>\n",
       "      <td>0.220304</td>\n",
       "      <td>0.220304</td>\n",
       "    </tr>\n",
       "    <tr>\n",
       "      <th>PaidStarPerWatchedHour</th>\n",
       "      <td>1.000000</td>\n",
       "      <td>1.000000</td>\n",
       "    </tr>\n",
       "    <tr>\n",
       "      <th>Character_Facet_Cont_Rigidity</th>\n",
       "      <td>-0.099999</td>\n",
       "      <td>0.099999</td>\n",
       "    </tr>\n",
       "    <tr>\n",
       "      <th>Character_Facet_Cont_AchievementStriving</th>\n",
       "      <td>0.079238</td>\n",
       "      <td>0.079238</td>\n",
       "    </tr>\n",
       "    <tr>\n",
       "      <th>...</th>\n",
       "      <td>...</td>\n",
       "      <td>...</td>\n",
       "    </tr>\n",
       "    <tr>\n",
       "      <th>Role_Curator</th>\n",
       "      <td>0.174295</td>\n",
       "      <td>0.174295</td>\n",
       "    </tr>\n",
       "    <tr>\n",
       "      <th>Personal_Values_Cont_Conservation</th>\n",
       "      <td>0.126991</td>\n",
       "      <td>0.126991</td>\n",
       "    </tr>\n",
       "    <tr>\n",
       "      <th>Self_Esteem_Cont_SELevelIntelligence</th>\n",
       "      <td>0.114209</td>\n",
       "      <td>0.114209</td>\n",
       "    </tr>\n",
       "    <tr>\n",
       "      <th>Temperament_Centric</th>\n",
       "      <td>-0.020632</td>\n",
       "      <td>0.020632</td>\n",
       "    </tr>\n",
       "    <tr>\n",
       "      <th>PaidStarPerWatchedHourPerFollower</th>\n",
       "      <td>0.639993</td>\n",
       "      <td>0.639993</td>\n",
       "    </tr>\n",
       "  </tbody>\n",
       "</table>\n",
       "<p>123 rows × 2 columns</p>\n",
       "</div>"
      ],
      "text/plain": [
       "                                          PaidStarPerWatchedHour  PSPW_abs\n",
       "Total Follower                                         -0.195180  0.195180\n",
       "Broadcast Hours                                         0.220304  0.220304\n",
       "PaidStarPerWatchedHour                                  1.000000  1.000000\n",
       "Character_Facet_Cont_Rigidity                          -0.099999  0.099999\n",
       "Character_Facet_Cont_AchievementStriving                0.079238  0.079238\n",
       "...                                                          ...       ...\n",
       "Role_Curator                                            0.174295  0.174295\n",
       "Personal_Values_Cont_Conservation                       0.126991  0.126991\n",
       "Self_Esteem_Cont_SELevelIntelligence                    0.114209  0.114209\n",
       "Temperament_Centric                                    -0.020632  0.020632\n",
       "PaidStarPerWatchedHourPerFollower                       0.639993  0.639993\n",
       "\n",
       "[123 rows x 2 columns]"
      ]
     },
     "execution_count": 15,
     "metadata": {},
     "output_type": "execute_result"
    }
   ],
   "source": [
    "# Distribution of VN, PUBG, Male\n",
    "vpm = df.loc[df['Game'] == 'PUBG'].loc[df['Country'] == 'VN'].loc[df['Gender'] == 'Male']\n",
    "test_corr = vpm.corr()\n",
    "test_corr['PSPW_abs'] = test_corr['PaidStarPerWatchedHour'].apply(lambda x: abs(x))\n",
    "test_corr = test_corr[['PaidStarPerWatchedHour', 'PSPW_abs']]\n",
    "test_corr\n"
   ]
  },
  {
   "cell_type": "code",
   "execution_count": 16,
   "id": "b66376a4",
   "metadata": {},
   "outputs": [
    {
     "data": {
      "text/plain": [
       "<AxesSubplot:>"
      ]
     },
     "execution_count": 16,
     "metadata": {},
     "output_type": "execute_result"
    },
    {
     "data": {
      "image/png": "[encoded data removed]",
      "text/plain": [
       "<Figure size 432x288 with 1 Axes>"
      ]
     },
     "metadata": {
      "needs_background": "light"
     },
     "output_type": "display_data"
    }
   ],
   "source": [
    "# select data of PaidStarPerWatchedHourPerFollower in Q3-Q4\n",
    "cols = ['PSPW_abs']\n",
    "Q3 = test_corr[cols].quantile(0.75)\n",
    "condition = (test_corr[cols]>Q3).any(axis=1)\n",
    "test_corr = test_corr[condition]\n",
    "test_corr = test_corr.sort_values('PSPW_abs',ascending= False).iloc[3:,1:]\n",
    "test_corr\n",
    "test_corr.head(5).plot(kind='barh')\n"
   ]
  },
  {
   "cell_type": "code",
   "execution_count": 17,
   "id": "6eb13ac2",
   "metadata": {},
   "outputs": [
    {
     "data": {
      "text/html": [
       "<div>\n",
       "<style scoped>\n",
       "    .dataframe tbody tr th:only-of-type {\n",
       "        vertical-align: middle;\n",
       "    }\n",
       "\n",
       "    .dataframe tbody tr th {\n",
       "        vertical-align: top;\n",
       "    }\n",
       "\n",
       "    .dataframe thead th {\n",
       "        text-align: right;\n",
       "    }\n",
       "</style>\n",
       "<table border=\"1\" class=\"dataframe\">\n",
       "  <thead>\n",
       "    <tr style=\"text-align: right;\">\n",
       "      <th></th>\n",
       "      <th>PaidStarPerWatchedHour</th>\n",
       "      <th>PSPW_abs</th>\n",
       "    </tr>\n",
       "  </thead>\n",
       "  <tbody>\n",
       "    <tr>\n",
       "      <th>Total Follower</th>\n",
       "      <td>-0.160742</td>\n",
       "      <td>0.160742</td>\n",
       "    </tr>\n",
       "    <tr>\n",
       "      <th>Broadcast Hours</th>\n",
       "      <td>0.074013</td>\n",
       "      <td>0.074013</td>\n",
       "    </tr>\n",
       "    <tr>\n",
       "      <th>PaidStarPerWatchedHour</th>\n",
       "      <td>1.000000</td>\n",
       "      <td>1.000000</td>\n",
       "    </tr>\n",
       "    <tr>\n",
       "      <th>Character_Facet_Cont_Rigidity</th>\n",
       "      <td>-0.387625</td>\n",
       "      <td>0.387625</td>\n",
       "    </tr>\n",
       "    <tr>\n",
       "      <th>Character_Facet_Cont_AchievementStriving</th>\n",
       "      <td>0.008814</td>\n",
       "      <td>0.008814</td>\n",
       "    </tr>\n",
       "    <tr>\n",
       "      <th>...</th>\n",
       "      <td>...</td>\n",
       "      <td>...</td>\n",
       "    </tr>\n",
       "    <tr>\n",
       "      <th>Role_Curator</th>\n",
       "      <td>-0.200469</td>\n",
       "      <td>0.200469</td>\n",
       "    </tr>\n",
       "    <tr>\n",
       "      <th>Personal_Values_Cont_Conservation</th>\n",
       "      <td>-0.347054</td>\n",
       "      <td>0.347054</td>\n",
       "    </tr>\n",
       "    <tr>\n",
       "      <th>Self_Esteem_Cont_SELevelIntelligence</th>\n",
       "      <td>0.367693</td>\n",
       "      <td>0.367693</td>\n",
       "    </tr>\n",
       "    <tr>\n",
       "      <th>Temperament_Centric</th>\n",
       "      <td>0.172117</td>\n",
       "      <td>0.172117</td>\n",
       "    </tr>\n",
       "    <tr>\n",
       "      <th>PaidStarPerWatchedHourPerFollower</th>\n",
       "      <td>0.618702</td>\n",
       "      <td>0.618702</td>\n",
       "    </tr>\n",
       "  </tbody>\n",
       "</table>\n",
       "<p>123 rows × 2 columns</p>\n",
       "</div>"
      ],
      "text/plain": [
       "                                          PaidStarPerWatchedHour  PSPW_abs\n",
       "Total Follower                                         -0.160742  0.160742\n",
       "Broadcast Hours                                         0.074013  0.074013\n",
       "PaidStarPerWatchedHour                                  1.000000  1.000000\n",
       "Character_Facet_Cont_Rigidity                          -0.387625  0.387625\n",
       "Character_Facet_Cont_AchievementStriving                0.008814  0.008814\n",
       "...                                                          ...       ...\n",
       "Role_Curator                                           -0.200469  0.200469\n",
       "Personal_Values_Cont_Conservation                      -0.347054  0.347054\n",
       "Self_Esteem_Cont_SELevelIntelligence                    0.367693  0.367693\n",
       "Temperament_Centric                                     0.172117  0.172117\n",
       "PaidStarPerWatchedHourPerFollower                       0.618702  0.618702\n",
       "\n",
       "[123 rows x 2 columns]"
      ]
     },
     "execution_count": 17,
     "metadata": {},
     "output_type": "execute_result"
    }
   ],
   "source": [
    "# Distribution of VN, PUBG, Female\n",
    "vpf = df.loc[df['Game'] == 'PUBG'].loc[df['Country'] == 'VN'].loc[df['Gender'] == 'Female']\n",
    "test_corr_f = vpf.corr()\n",
    "test_corr_f['PSPW_abs'] = test_corr_f['PaidStarPerWatchedHour'].apply(lambda x: abs(x))\n",
    "test_corr_f = test_corr_f[['PaidStarPerWatchedHour', 'PSPW_abs']]\n",
    "test_corr_f"
   ]
  },
  {
   "cell_type": "code",
   "execution_count": 18,
   "id": "820a6ff1",
   "metadata": {},
   "outputs": [
    {
     "name": "stderr",
     "output_type": "stream",
     "text": [
      "/home/eclbd/.local/lib/python3.6/site-packages/ipykernel_launcher.py:6: UserWarning: Boolean Series key will be reindexed to match DataFrame index.\n",
      "  \n"
     ]
    },
    {
     "data": {
      "text/plain": [
       "<AxesSubplot:>"
      ]
     },
     "execution_count": 18,
     "metadata": {},
     "output_type": "execute_result"
    },
    {
     "data": {
      "image/png": "[encoded data removed]",
      "text/plain": [
       "<Figure size 432x288 with 1 Axes>"
      ]
     },
     "metadata": {
      "needs_background": "light"
     },
     "output_type": "display_data"
    }
   ],
   "source": [
    "# select data of PaidStarPerWatchedHourPerFollower in Q3-Q4\n",
    "cols = ['PSPW_abs']\n",
    "Q3 = test_corr_f[cols].quantile(0.75)\n",
    "condition = (test_corr_f[cols]>Q3).any(axis=1)\n",
    "test_corr_f = test_corr_f[condition]\n",
    "test_corr_f = test_corr_f.sort_values('PSPW_abs',ascending= False)[test_corr_f['PSPW_abs'] > test_corr_f['PSPW_abs'].mean()].iloc[3:,1:]\n",
    "test_corr_f.plot(kind='barh')\n"
   ]
  },
  {
   "cell_type": "code",
   "execution_count": 19,
   "id": "01d3b2f5",
   "metadata": {},
   "outputs": [
    {
     "name": "stdout",
     "output_type": "stream",
     "text": [
      "Country\n",
      "ID    0.000022\n",
      "PH    0.000202\n",
      "VN    0.000025\n",
      "Name: PaidStarPerWatchedHour, dtype: float64\n"
     ]
    },
    {
     "data": {
      "text/plain": [
       "<AxesSubplot:ylabel='Country'>"
      ]
     },
     "execution_count": 19,
     "metadata": {},
     "output_type": "execute_result"
    },
    {
     "data": {
      "image/png": "[encoded data removed]",
      "text/plain": [
       "<Figure size 432x288 with 1 Axes>"
      ]
     },
     "metadata": {
      "needs_background": "light"
     },
     "output_type": "display_data"
    }
   ],
   "source": [
    "# print(df.groupby('Country').mean()['PaidStarPerWatchedHour'])\n",
    "print(df.groupby('Country').mean()['PaidStarPerWatchedHour']/df.groupby('Country').count()['PaidStarPerWatchedHour'])\n",
    "(df.groupby('Country').mean()['PaidStarPerWatchedHour']/df.groupby('Country').count()['PaidStarPerWatchedHour']).plot(kind='barh')\n"
   ]
  },
  {
   "cell_type": "code",
   "execution_count": 20,
   "id": "b889dc65",
   "metadata": {},
   "outputs": [
    {
     "data": {
      "text/plain": [
       "<AxesSubplot:ylabel='Country'>"
      ]
     },
     "execution_count": 20,
     "metadata": {},
     "output_type": "execute_result"
    },
    {
     "data": {
      "image/png": "[encoded data removed]",
      "text/plain": [
       "<Figure size 432x288 with 1 Axes>"
      ]
     },
     "metadata": {
      "needs_background": "light"
     },
     "output_type": "display_data"
    }
   ],
   "source": [
    "df[df['Gender'] == 'Male'].groupby('Country').mean()['PaidStarPerWatchedHour'].plot(kind='barh')\n"
   ]
  },
  {
   "cell_type": "code",
   "execution_count": 21,
   "id": "84fdc09f",
   "metadata": {},
   "outputs": [
    {
     "data": {
      "text/plain": [
       "<AxesSubplot:ylabel='Country'>"
      ]
     },
     "execution_count": 21,
     "metadata": {},
     "output_type": "execute_result"
    },
    {
     "data": {
      "image/png": "[encoded data removed]",
      "text/plain": [
       "<Figure size 432x288 with 1 Axes>"
      ]
     },
     "metadata": {
      "needs_background": "light"
     },
     "output_type": "display_data"
    }
   ],
   "source": [
    "df[df['Gender'] == 'Female'].groupby('Country').mean()['PaidStarPerWatchedHour'].plot(kind='barh')\n"
   ]
  },
  {
   "cell_type": "code",
   "execution_count": 22,
   "id": "78698a3f",
   "metadata": {},
   "outputs": [
    {
     "data": {
      "text/plain": [
       "<AxesSubplot:ylabel='Gender'>"
      ]
     },
     "execution_count": 22,
     "metadata": {},
     "output_type": "execute_result"
    },
    {
     "data": {
      "image/png": "[encoded data removed]",
      "text/plain": [
       "<Figure size 432x288 with 1 Axes>"
      ]
     },
     "metadata": {
      "needs_background": "light"
     },
     "output_type": "display_data"
    }
   ],
   "source": [
    "df.groupby('Gender').mean()['PaidStarPerWatchedHour'].plot(kind='barh')\n"
   ]
  },
  {
   "cell_type": "code",
   "execution_count": 23,
   "id": "6e19cb42",
   "metadata": {},
   "outputs": [
    {
     "data": {
      "text/plain": [
       "<AxesSubplot:ylabel='Gender'>"
      ]
     },
     "execution_count": 23,
     "metadata": {},
     "output_type": "execute_result"
    },
    {
     "data": {
      "image/png": "[encoded data removed]",
      "text/plain": [
       "<Figure size 432x288 with 1 Axes>"
      ]
     },
     "metadata": {
      "needs_background": "light"
     },
     "output_type": "display_data"
    }
   ],
   "source": [
    "df[df['Country'] == 'PH'].groupby('Gender').mean()['PaidStarPerWatchedHour'].plot(kind='barh')\n"
   ]
  },
  {
   "cell_type": "code",
   "execution_count": 24,
   "id": "7982a1e0",
   "metadata": {},
   "outputs": [
    {
     "name": "stdout",
     "output_type": "stream",
     "text": [
      "Gender\n",
      "Female    0.000183\n",
      "Male      0.000010\n",
      "Name: PaidStarPerWatchedHour, dtype: float64\n"
     ]
    },
    {
     "data": {
      "text/plain": [
       "<AxesSubplot:ylabel='Gender'>"
      ]
     },
     "execution_count": 24,
     "metadata": {},
     "output_type": "execute_result"
    },
    {
     "data": {
      "image/png": "[encoded data removed]",
      "text/plain": [
       "<Figure size 432x288 with 1 Axes>"
      ]
     },
     "metadata": {
      "needs_background": "light"
     },
     "output_type": "display_data"
    }
   ],
   "source": [
    "print(df.groupby('Gender').mean()['PaidStarPerWatchedHour']/df.groupby('Gender').count()['PaidStarPerWatchedHour'])\n",
    "(df.groupby('Gender').mean()['PaidStarPerWatchedHour']/df.groupby('Gender').count()['PaidStarPerWatchedHour']).plot(kind='barh')\n"
   ]
  },
  {
   "cell_type": "code",
   "execution_count": 25,
   "id": "c087c25c",
   "metadata": {},
   "outputs": [
    {
     "data": {
      "text/plain": [
       "<AxesSubplot:ylabel='Gender'>"
      ]
     },
     "execution_count": 25,
     "metadata": {},
     "output_type": "execute_result"
    },
    {
     "data": {
      "image/png": "[encoded data removed]",
      "text/plain": [
       "<Figure size 432x288 with 1 Axes>"
      ]
     },
     "metadata": {
      "needs_background": "light"
     },
     "output_type": "display_data"
    }
   ],
   "source": [
    "df[df['Country'] == 'VN'].groupby('Gender').mean()['PaidStarPerWatchedHour'].plot(kind='barh')\n"
   ]
  },
  {
   "cell_type": "code",
   "execution_count": 26,
   "id": "e32460dc",
   "metadata": {},
   "outputs": [
    {
     "data": {
      "text/plain": [
       "<AxesSubplot:ylabel='Gender'>"
      ]
     },
     "execution_count": 26,
     "metadata": {},
     "output_type": "execute_result"
    },
    {
     "data": {
      "image/png": "[encoded data removed]",
      "text/plain": [
       "<Figure size 432x288 with 1 Axes>"
      ]
     },
     "metadata": {
      "needs_background": "light"
     },
     "output_type": "display_data"
    }
   ],
   "source": [
    "df[df['Country'] == 'ID'].groupby('Gender').mean()['PaidStarPerWatchedHour'].plot(kind='barh')\n"
   ]
  },
  {
   "cell_type": "markdown",
   "id": "013155b1",
   "metadata": {},
   "source": [
    "## Thank you"
   ]
  },
  {
   "cell_type": "code",
   "execution_count": null,
   "id": "15b476f7",
   "metadata": {},
   "outputs": [],
   "source": []
  },
  {
   "cell_type": "code",
   "execution_count": null,
   "id": "8fa62029",
   "metadata": {},
   "outputs": [],
   "source": []
  }
 ],
 "metadata": {
  "kernelspec": {
   "display_name": "Python 3",
   "language": "python",
   "name": "python3"
  },
  "language_info": {
   "codemirror_mode": {
    "name": "ipython",
    "version": 3
   },
   "file_extension": ".py",
   "mimetype": "text/x-python",
   "name": "python",
   "nbconvert_exporter": "python",
   "pygments_lexer": "ipython3",
   "version": "3.6.9"
  }
 },
 "nbformat": 4,
 "nbformat_minor": 5
}
